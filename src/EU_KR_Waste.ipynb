{
 "cells": [
  {
   "cell_type": "code",
   "execution_count": 2,
   "metadata": {},
   "outputs": [],
   "source": [
    "import numpy as np\n",
    "import pandas as pd\n",
    "import matplotlib.pyplot as plt\n",
    "import seaborn as sns\n",
    "\n",
    "from sklearn.model_selection import train_test_split"
   ]
  },
  {
   "cell_type": "code",
   "execution_count": 3,
   "metadata": {},
   "outputs": [],
   "source": [
    "eu_waste_data = pd.read_csv('../src/aggregate_trash.csv', header='infer')"
   ]
  },
  {
   "cell_type": "code",
   "execution_count": 4,
   "metadata": {},
   "outputs": [
    {
     "name": "stdout",
     "output_type": "stream",
     "text": [
      "<class 'pandas.core.frame.DataFrame'>\n",
      "RangeIndex: 1061452 entries, 0 to 1061451\n",
      "Data columns (total 7 columns):\n",
      " #   Column       Non-Null Count    Dtype  \n",
      "---  ------       --------------    -----  \n",
      " 0   stk_flow     1061452 non-null  object \n",
      " 1   rawmat       1061452 non-null  object \n",
      " 2   partner      1058928 non-null  object \n",
      " 3   unit         1061452 non-null  object \n",
      " 4   geo          1061452 non-null  object \n",
      " 5   TIME_PERIOD  1061452 non-null  int64  \n",
      " 6   OBS_VALUE    1061452 non-null  float64\n",
      "dtypes: float64(1), int64(1), object(5)\n",
      "memory usage: 56.7+ MB\n"
     ]
    }
   ],
   "source": [
    "eu_waste_data.info()"
   ]
  },
  {
   "cell_type": "code",
   "execution_count": 5,
   "metadata": {},
   "outputs": [],
   "source": [
    "eu_waste_data = eu_waste_data[eu_waste_data[\"partner\"] == \"KR\"]"
   ]
  },
  {
   "cell_type": "code",
   "execution_count": 6,
   "metadata": {},
   "outputs": [
    {
     "name": "stdout",
     "output_type": "stream",
     "text": [
      "    stk_flow rawmat partner unit        geo  TIME_PERIOD  OBS_VALUE\n",
      "210      EXP   GLAS      KR    T         DE         2009    15059.0\n",
      "211      EXP   GLAS      KR    T  EU27_2020         2009    17699.0\n",
      "212      EXP   GLAS      KR    T         FR         2009     1670.0\n",
      "213      EXP   GLAS      KR    T         IE         2009       53.0\n",
      "214      EXP   GLAS      KR    T         IT         2009      917.0\n"
     ]
    }
   ],
   "source": [
    "print (eu_waste_data.head())"
   ]
  },
  {
   "cell_type": "code",
   "execution_count": 7,
   "metadata": {},
   "outputs": [],
   "source": [
    "kr_df_med = pd.read_csv('../src/KR_Medical_Waste.csv', header='infer')"
   ]
  },
  {
   "cell_type": "code",
   "execution_count": 8,
   "metadata": {},
   "outputs": [
    {
     "data": {
      "text/html": [
       "<div>\n",
       "<style scoped>\n",
       "    .dataframe tbody tr th:only-of-type {\n",
       "        vertical-align: middle;\n",
       "    }\n",
       "\n",
       "    .dataframe tbody tr th {\n",
       "        vertical-align: top;\n",
       "    }\n",
       "\n",
       "    .dataframe thead th {\n",
       "        text-align: right;\n",
       "    }\n",
       "</style>\n",
       "<table border=\"1\" class=\"dataframe\">\n",
       "  <thead>\n",
       "    <tr style=\"text-align: right;\">\n",
       "      <th></th>\n",
       "      <th>업체명</th>\n",
       "      <th>2017</th>\n",
       "      <th>2021</th>\n",
       "      <th>2022</th>\n",
       "    </tr>\n",
       "  </thead>\n",
       "  <tbody>\n",
       "    <tr>\n",
       "      <th>0</th>\n",
       "      <td>(주)경서</td>\n",
       "      <td>1799.74</td>\n",
       "      <td>6363.40</td>\n",
       "      <td>4831.20</td>\n",
       "    </tr>\n",
       "    <tr>\n",
       "      <th>1</th>\n",
       "      <td>(주)디디에스</td>\n",
       "      <td>4092.69</td>\n",
       "      <td>10695.88</td>\n",
       "      <td>5459.09</td>\n",
       "    </tr>\n",
       "    <tr>\n",
       "      <th>2</th>\n",
       "      <td>(주)스테리싸이클코리아</td>\n",
       "      <td>34969.74</td>\n",
       "      <td>34929.56</td>\n",
       "      <td>16071.19</td>\n",
       "    </tr>\n",
       "    <tr>\n",
       "      <th>3</th>\n",
       "      <td>(주)아림환경</td>\n",
       "      <td>22463.80</td>\n",
       "      <td>17521.35</td>\n",
       "      <td>8941.49</td>\n",
       "    </tr>\n",
       "    <tr>\n",
       "      <th>4</th>\n",
       "      <td>(주)에코비트에너지경주</td>\n",
       "      <td>40417.03</td>\n",
       "      <td>30903.76</td>\n",
       "      <td>16013.73</td>\n",
       "    </tr>\n",
       "    <tr>\n",
       "      <th>5</th>\n",
       "      <td>(주)에코비트에너지광주</td>\n",
       "      <td>9801.84</td>\n",
       "      <td>8730.44</td>\n",
       "      <td>4772.30</td>\n",
       "    </tr>\n",
       "    <tr>\n",
       "      <th>6</th>\n",
       "      <td>(주)엔비텍코리아</td>\n",
       "      <td>6951.85</td>\n",
       "      <td>6039.99</td>\n",
       "      <td>3271.27</td>\n",
       "    </tr>\n",
       "    <tr>\n",
       "      <th>7</th>\n",
       "      <td>(주)이메디원</td>\n",
       "      <td>7705.06</td>\n",
       "      <td>18611.26</td>\n",
       "      <td>8712.33</td>\n",
       "    </tr>\n",
       "    <tr>\n",
       "      <th>8</th>\n",
       "      <td>도시환경(주)</td>\n",
       "      <td>21655.49</td>\n",
       "      <td>17556.64</td>\n",
       "      <td>6224.84</td>\n",
       "    </tr>\n",
       "    <tr>\n",
       "      <th>9</th>\n",
       "      <td>엔씨메디(주)</td>\n",
       "      <td>3248.72</td>\n",
       "      <td>3577.44</td>\n",
       "      <td>1823.79</td>\n",
       "    </tr>\n",
       "    <tr>\n",
       "      <th>10</th>\n",
       "      <td>주식회사 에코비트에너지</td>\n",
       "      <td>23205.36</td>\n",
       "      <td>23404.94</td>\n",
       "      <td>11210.32</td>\n",
       "    </tr>\n",
       "    <tr>\n",
       "      <th>11</th>\n",
       "      <td>주식회사 에코비트에너지경산</td>\n",
       "      <td>5986.01</td>\n",
       "      <td>14097.18</td>\n",
       "      <td>8153.73</td>\n",
       "    </tr>\n",
       "  </tbody>\n",
       "</table>\n",
       "</div>"
      ],
      "text/plain": [
       "               업체명      2017      2021      2022\n",
       "0            (주)경서   1799.74   6363.40   4831.20\n",
       "1          (주)디디에스   4092.69  10695.88   5459.09\n",
       "2     (주)스테리싸이클코리아  34969.74  34929.56  16071.19\n",
       "3          (주)아림환경  22463.80  17521.35   8941.49\n",
       "4     (주)에코비트에너지경주  40417.03  30903.76  16013.73\n",
       "5     (주)에코비트에너지광주   9801.84   8730.44   4772.30\n",
       "6        (주)엔비텍코리아   6951.85   6039.99   3271.27\n",
       "7          (주)이메디원   7705.06  18611.26   8712.33\n",
       "8          도시환경(주)  21655.49  17556.64   6224.84\n",
       "9          엔씨메디(주)   3248.72   3577.44   1823.79\n",
       "10    주식회사 에코비트에너지  23205.36  23404.94  11210.32\n",
       "11  주식회사 에코비트에너지경산   5986.01  14097.18   8153.73"
      ]
     },
     "execution_count": 8,
     "metadata": {},
     "output_type": "execute_result"
    }
   ],
   "source": [
    "kr_df_med.head(12)"
   ]
  },
  {
   "cell_type": "code",
   "execution_count": 9,
   "metadata": {},
   "outputs": [
    {
     "data": {
      "text/html": [
       "<div>\n",
       "<style scoped>\n",
       "    .dataframe tbody tr th:only-of-type {\n",
       "        vertical-align: middle;\n",
       "    }\n",
       "\n",
       "    .dataframe tbody tr th {\n",
       "        vertical-align: top;\n",
       "    }\n",
       "\n",
       "    .dataframe thead th {\n",
       "        text-align: right;\n",
       "    }\n",
       "</style>\n",
       "<table border=\"1\" class=\"dataframe\">\n",
       "  <thead>\n",
       "    <tr style=\"text-align: right;\">\n",
       "      <th></th>\n",
       "      <th>2017</th>\n",
       "      <th>2021</th>\n",
       "      <th>2022</th>\n",
       "    </tr>\n",
       "  </thead>\n",
       "  <tbody>\n",
       "    <tr>\n",
       "      <th>count</th>\n",
       "      <td>13.000000</td>\n",
       "      <td>13.000000</td>\n",
       "      <td>13.000000</td>\n",
       "    </tr>\n",
       "    <tr>\n",
       "      <th>mean</th>\n",
       "      <td>15841.276923</td>\n",
       "      <td>16298.576154</td>\n",
       "      <td>8155.468462</td>\n",
       "    </tr>\n",
       "    <tr>\n",
       "      <th>std</th>\n",
       "      <td>12698.932387</td>\n",
       "      <td>9524.388384</td>\n",
       "      <td>4451.375375</td>\n",
       "    </tr>\n",
       "    <tr>\n",
       "      <th>min</th>\n",
       "      <td>1799.740000</td>\n",
       "      <td>3577.440000</td>\n",
       "      <td>1823.790000</td>\n",
       "    </tr>\n",
       "    <tr>\n",
       "      <th>25%</th>\n",
       "      <td>5986.010000</td>\n",
       "      <td>8730.440000</td>\n",
       "      <td>4831.200000</td>\n",
       "    </tr>\n",
       "    <tr>\n",
       "      <th>50%</th>\n",
       "      <td>9801.840000</td>\n",
       "      <td>17521.350000</td>\n",
       "      <td>8153.730000</td>\n",
       "    </tr>\n",
       "    <tr>\n",
       "      <th>75%</th>\n",
       "      <td>23205.360000</td>\n",
       "      <td>19449.650000</td>\n",
       "      <td>10535.810000</td>\n",
       "    </tr>\n",
       "    <tr>\n",
       "      <th>max</th>\n",
       "      <td>40417.030000</td>\n",
       "      <td>34929.560000</td>\n",
       "      <td>16071.190000</td>\n",
       "    </tr>\n",
       "  </tbody>\n",
       "</table>\n",
       "</div>"
      ],
      "text/plain": [
       "               2017          2021          2022\n",
       "count     13.000000     13.000000     13.000000\n",
       "mean   15841.276923  16298.576154   8155.468462\n",
       "std    12698.932387   9524.388384   4451.375375\n",
       "min     1799.740000   3577.440000   1823.790000\n",
       "25%     5986.010000   8730.440000   4831.200000\n",
       "50%     9801.840000  17521.350000   8153.730000\n",
       "75%    23205.360000  19449.650000  10535.810000\n",
       "max    40417.030000  34929.560000  16071.190000"
      ]
     },
     "execution_count": 9,
     "metadata": {},
     "output_type": "execute_result"
    }
   ],
   "source": [
    "kr_df_med.describe()"
   ]
  },
  {
   "cell_type": "code",
   "execution_count": 10,
   "metadata": {},
   "outputs": [
    {
     "name": "stdout",
     "output_type": "stream",
     "text": [
      "(13, 4)\n"
     ]
    }
   ],
   "source": [
    "print(kr_df_med.shape)"
   ]
  },
  {
   "cell_type": "code",
   "execution_count": 11,
   "metadata": {},
   "outputs": [],
   "source": [
    "kr_df_gen = pd.read_csv('../src/KR_Corp_Waste.csv', encoding=\"cp949\")"
   ]
  },
  {
   "cell_type": "code",
   "execution_count": 12,
   "metadata": {},
   "outputs": [
    {
     "name": "stdout",
     "output_type": "stream",
     "text": [
      "<class 'pandas.core.frame.DataFrame'>\n",
      "RangeIndex: 16330 entries, 0 to 16329\n",
      "Data columns (total 6 columns):\n",
      " #   Column       Non-Null Count  Dtype  \n",
      "---  ------       --------------  -----  \n",
      " 0   기초시군구(관할관청)  16330 non-null  object \n",
      " 1   업체명          16330 non-null  object \n",
      " 2   연락처          15850 non-null  object \n",
      " 3   폐기물구분        9691 non-null   object \n",
      " 4   폐기물명         16330 non-null  object \n",
      " 5   연간배출량(톤)     16330 non-null  float64\n",
      "dtypes: float64(1), object(5)\n",
      "memory usage: 765.6+ KB\n"
     ]
    }
   ],
   "source": [
    "kr_df_gen.info()"
   ]
  },
  {
   "cell_type": "code",
   "execution_count": 13,
   "metadata": {},
   "outputs": [
    {
     "data": {
      "text/html": [
       "<div>\n",
       "<style scoped>\n",
       "    .dataframe tbody tr th:only-of-type {\n",
       "        vertical-align: middle;\n",
       "    }\n",
       "\n",
       "    .dataframe tbody tr th {\n",
       "        vertical-align: top;\n",
       "    }\n",
       "\n",
       "    .dataframe thead th {\n",
       "        text-align: right;\n",
       "    }\n",
       "</style>\n",
       "<table border=\"1\" class=\"dataframe\">\n",
       "  <thead>\n",
       "    <tr style=\"text-align: right;\">\n",
       "      <th></th>\n",
       "      <th>기초시군구(관할관청)</th>\n",
       "      <th>업체명</th>\n",
       "      <th>연락처</th>\n",
       "      <th>폐기물구분</th>\n",
       "      <th>폐기물명</th>\n",
       "      <th>연간배출량(톤)</th>\n",
       "    </tr>\n",
       "  </thead>\n",
       "  <tbody>\n",
       "    <tr>\n",
       "      <th>0</th>\n",
       "      <td>강원특별자치도 강릉시</td>\n",
       "      <td>(주)기성환경</td>\n",
       "      <td>033-655-6969</td>\n",
       "      <td>사업장배출시설계폐기물</td>\n",
       "      <td>그 밖의 폐목재류</td>\n",
       "      <td>250.83</td>\n",
       "    </tr>\n",
       "    <tr>\n",
       "      <th>1</th>\n",
       "      <td>강원특별자치도 강릉시</td>\n",
       "      <td>(주)기성환경</td>\n",
       "      <td>033-655-6969</td>\n",
       "      <td>사업장배출시설계폐기물</td>\n",
       "      <td>폐합성수지류(폐염화비닐수지류는 제외한다)</td>\n",
       "      <td>219.17</td>\n",
       "    </tr>\n",
       "    <tr>\n",
       "      <th>2</th>\n",
       "      <td>강원특별자치도 강릉시</td>\n",
       "      <td>(주)에코비트워터(강릉하수처리장)</td>\n",
       "      <td>033-650-5200</td>\n",
       "      <td>사업장배출시설계폐기물</td>\n",
       "      <td>그 밖의 공정오니(무기성)</td>\n",
       "      <td>0.00</td>\n",
       "    </tr>\n",
       "    <tr>\n",
       "      <th>3</th>\n",
       "      <td>강원특별자치도 강릉시</td>\n",
       "      <td>(주)에코비트워터(강릉하수처리장)</td>\n",
       "      <td>033-650-5200</td>\n",
       "      <td>사업장배출시설계폐기물</td>\n",
       "      <td>그 밖의 유기성오니</td>\n",
       "      <td>0.00</td>\n",
       "    </tr>\n",
       "    <tr>\n",
       "      <th>4</th>\n",
       "      <td>강원특별자치도 강릉시</td>\n",
       "      <td>(주)에코비트워터(강릉하수처리장)</td>\n",
       "      <td>033-650-5200</td>\n",
       "      <td>사업장배출시설계폐기물</td>\n",
       "      <td>그 밖의 폐기물</td>\n",
       "      <td>0.00</td>\n",
       "    </tr>\n",
       "  </tbody>\n",
       "</table>\n",
       "</div>"
      ],
      "text/plain": [
       "   기초시군구(관할관청)                 업체명           연락처        폐기물구분  \\\n",
       "0  강원특별자치도 강릉시             (주)기성환경  033-655-6969  사업장배출시설계폐기물   \n",
       "1  강원특별자치도 강릉시             (주)기성환경  033-655-6969  사업장배출시설계폐기물   \n",
       "2  강원특별자치도 강릉시  (주)에코비트워터(강릉하수처리장)  033-650-5200  사업장배출시설계폐기물   \n",
       "3  강원특별자치도 강릉시  (주)에코비트워터(강릉하수처리장)  033-650-5200  사업장배출시설계폐기물   \n",
       "4  강원특별자치도 강릉시  (주)에코비트워터(강릉하수처리장)  033-650-5200  사업장배출시설계폐기물   \n",
       "\n",
       "                     폐기물명  연간배출량(톤)  \n",
       "0               그 밖의 폐목재류    250.83  \n",
       "1  폐합성수지류(폐염화비닐수지류는 제외한다)    219.17  \n",
       "2          그 밖의 공정오니(무기성)      0.00  \n",
       "3              그 밖의 유기성오니      0.00  \n",
       "4                그 밖의 폐기물      0.00  "
      ]
     },
     "execution_count": 13,
     "metadata": {},
     "output_type": "execute_result"
    }
   ],
   "source": [
    "kr_df_gen.head(5)"
   ]
  },
  {
   "cell_type": "code",
   "execution_count": 14,
   "metadata": {},
   "outputs": [
    {
     "name": "stdout",
     "output_type": "stream",
     "text": [
      "(16330, 6)\n"
     ]
    }
   ],
   "source": [
    "print(kr_df_gen.shape)"
   ]
  },
  {
   "cell_type": "code",
   "execution_count": 15,
   "metadata": {},
   "outputs": [],
   "source": [
    "eu_df = pd.read_csv('../src/aggregate_trash.csv', header='infer')"
   ]
  },
  {
   "cell_type": "code",
   "execution_count": 16,
   "metadata": {},
   "outputs": [
    {
     "data": {
      "text/html": [
       "<div>\n",
       "<style scoped>\n",
       "    .dataframe tbody tr th:only-of-type {\n",
       "        vertical-align: middle;\n",
       "    }\n",
       "\n",
       "    .dataframe tbody tr th {\n",
       "        vertical-align: top;\n",
       "    }\n",
       "\n",
       "    .dataframe thead th {\n",
       "        text-align: right;\n",
       "    }\n",
       "</style>\n",
       "<table border=\"1\" class=\"dataframe\">\n",
       "  <thead>\n",
       "    <tr style=\"text-align: right;\">\n",
       "      <th></th>\n",
       "      <th>stk_flow</th>\n",
       "      <th>rawmat</th>\n",
       "      <th>partner</th>\n",
       "      <th>unit</th>\n",
       "      <th>geo</th>\n",
       "      <th>TIME_PERIOD</th>\n",
       "      <th>OBS_VALUE</th>\n",
       "    </tr>\n",
       "  </thead>\n",
       "  <tbody>\n",
       "    <tr>\n",
       "      <th>0</th>\n",
       "      <td>EXP</td>\n",
       "      <td>GLAS</td>\n",
       "      <td>AE</td>\n",
       "      <td>T</td>\n",
       "      <td>DE</td>\n",
       "      <td>2009</td>\n",
       "      <td>5.0</td>\n",
       "    </tr>\n",
       "    <tr>\n",
       "      <th>1</th>\n",
       "      <td>EXP</td>\n",
       "      <td>GLAS</td>\n",
       "      <td>AE</td>\n",
       "      <td>T</td>\n",
       "      <td>EU27_2020</td>\n",
       "      <td>2009</td>\n",
       "      <td>5.0</td>\n",
       "    </tr>\n",
       "    <tr>\n",
       "      <th>2</th>\n",
       "      <td>EXP</td>\n",
       "      <td>GLAS</td>\n",
       "      <td>AE</td>\n",
       "      <td>THS_EUR</td>\n",
       "      <td>DE</td>\n",
       "      <td>2009</td>\n",
       "      <td>5.7</td>\n",
       "    </tr>\n",
       "    <tr>\n",
       "      <th>3</th>\n",
       "      <td>EXP</td>\n",
       "      <td>GLAS</td>\n",
       "      <td>AE</td>\n",
       "      <td>THS_EUR</td>\n",
       "      <td>EU27_2020</td>\n",
       "      <td>2009</td>\n",
       "      <td>5.7</td>\n",
       "    </tr>\n",
       "    <tr>\n",
       "      <th>4</th>\n",
       "      <td>EXP</td>\n",
       "      <td>GLAS</td>\n",
       "      <td>AR</td>\n",
       "      <td>T</td>\n",
       "      <td>BE</td>\n",
       "      <td>2009</td>\n",
       "      <td>0.0</td>\n",
       "    </tr>\n",
       "    <tr>\n",
       "      <th>5</th>\n",
       "      <td>EXP</td>\n",
       "      <td>GLAS</td>\n",
       "      <td>AR</td>\n",
       "      <td>T</td>\n",
       "      <td>EU27_2020</td>\n",
       "      <td>2009</td>\n",
       "      <td>0.0</td>\n",
       "    </tr>\n",
       "    <tr>\n",
       "      <th>6</th>\n",
       "      <td>EXP</td>\n",
       "      <td>GLAS</td>\n",
       "      <td>AR</td>\n",
       "      <td>THS_EUR</td>\n",
       "      <td>BE</td>\n",
       "      <td>2009</td>\n",
       "      <td>0.1</td>\n",
       "    </tr>\n",
       "    <tr>\n",
       "      <th>7</th>\n",
       "      <td>EXP</td>\n",
       "      <td>GLAS</td>\n",
       "      <td>AR</td>\n",
       "      <td>THS_EUR</td>\n",
       "      <td>EU27_2020</td>\n",
       "      <td>2009</td>\n",
       "      <td>0.1</td>\n",
       "    </tr>\n",
       "  </tbody>\n",
       "</table>\n",
       "</div>"
      ],
      "text/plain": [
       "  stk_flow rawmat partner     unit        geo  TIME_PERIOD  OBS_VALUE\n",
       "0      EXP   GLAS      AE        T         DE         2009        5.0\n",
       "1      EXP   GLAS      AE        T  EU27_2020         2009        5.0\n",
       "2      EXP   GLAS      AE  THS_EUR         DE         2009        5.7\n",
       "3      EXP   GLAS      AE  THS_EUR  EU27_2020         2009        5.7\n",
       "4      EXP   GLAS      AR        T         BE         2009        0.0\n",
       "5      EXP   GLAS      AR        T  EU27_2020         2009        0.0\n",
       "6      EXP   GLAS      AR  THS_EUR         BE         2009        0.1\n",
       "7      EXP   GLAS      AR  THS_EUR  EU27_2020         2009        0.1"
      ]
     },
     "execution_count": 16,
     "metadata": {},
     "output_type": "execute_result"
    }
   ],
   "source": [
    "eu_df.head(8)"
   ]
  }
 ],
 "metadata": {
  "kernelspec": {
   "display_name": "Python 3",
   "language": "python",
   "name": "python3"
  },
  "language_info": {
   "codemirror_mode": {
    "name": "ipython",
    "version": 3
   },
   "file_extension": ".py",
   "mimetype": "text/x-python",
   "name": "python",
   "nbconvert_exporter": "python",
   "pygments_lexer": "ipython3",
   "version": "3.12.6"
  }
 },
 "nbformat": 4,
 "nbformat_minor": 2
}
